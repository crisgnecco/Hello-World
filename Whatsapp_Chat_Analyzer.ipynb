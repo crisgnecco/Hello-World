{
  "nbformat": 4,
  "nbformat_minor": 0,
  "metadata": {
    "colab": {
      "name": "Whatsapp Chat Analyzer.ipynb",
      "version": "0.3.2",
      "provenance": [],
      "include_colab_link": true
    },
    "kernelspec": {
      "name": "python3",
      "display_name": "Python 3"
    }
  },
  "cells": [
    {
      "cell_type": "markdown",
      "metadata": {
        "id": "view-in-github",
        "colab_type": "text"
      },
      "source": [
        "<a href=\"https://colab.research.google.com/github/crisgnecco/Hello-World/blob/master/Whatsapp_Chat_Analyzer.ipynb\" target=\"_parent\"><img src=\"https://colab.research.google.com/assets/colab-badge.svg\" alt=\"Open In Colab\"/></a>"
      ]
    },
    {
      "cell_type": "code",
      "metadata": {
        "id": "TtFWK9iNWgqI",
        "colab_type": "code",
        "outputId": "899690f5-585e-41d8-e30b-b9427c1bb2ed",
        "colab": {
          "base_uri": "https://localhost:8080/",
          "height": 34
        }
      },
      "source": [
        "import pandas as pd\n",
        "import seaborn as sea\n",
        "import matplotlib as plt\n",
        "\n",
        "#re es una bib para manejo de cadenas\n",
        "import re\n",
        "\n",
        "\n",
        "###   Preparacion de datos\n",
        "\n",
        "\n",
        "#parseare cada linea usando regex\n",
        "\n",
        "# {Date}, {Time} - {Author}: {Message}\n",
        "\n",
        "# ej: {18/06/17}, {22:47} - {Cris}: {Hola como estas?}\n",
        "\n",
        "\n",
        "#creo una funcion para parsear cada linea\n",
        "\n",
        "\n",
        "\"\"\"\n",
        "Busca la Fecha y Hora,\n",
        "\n",
        "  Devuelve true si la encontro\n",
        "\n",
        "\"\"\"\n",
        "def empieza_con_fecha(s):\n",
        "  \n",
        "  patron=\"^([0-2][0-9]|(3)[0-1])(\\/)(((0)[0-9])|((1)[0-2]))(\\/)\\d{2}, ([0-9][0-9]):([0-9][0-9]) -\"\n",
        "  \n",
        "\n",
        "  #busca el patron en s\n",
        "  res= re.match(patron,s)\n",
        "  \n",
        "  if res:\n",
        "    return True\n",
        "    \n",
        "  return False\n",
        "  \n",
        "  \n",
        "    \n",
        "#llamo a la funcion para probar si encuentra fecha y hora\n",
        "\n",
        "cad=\"18/06/17, 22:47 - Loki: Why do you have 2 numbers, Banner?\"\n",
        "\n",
        "###empieza_con_fecha(cad)\n",
        "\n",
        "\n",
        "\n",
        "\"\"\"\n",
        "Nombre de la persona (autor del mensaje),\n",
        "\n",
        "  Devuelve true si la encontro\n",
        "\n",
        "\"\"\"\n",
        "#TODO: revisar\n",
        "def empieza_con_nombre_pers(s):\n",
        "  \n",
        "  \n",
        "  #lista de patrones, agregar mas si es necesario\n",
        "  patrones=[\n",
        "            '([\\w]+):',                        # nombre\n",
        "            '([\\w]+[\\s]+[\\w]+):'               # nombre apellido      \n",
        "  ]\n",
        "  \n",
        "  \n",
        "  #uno todos los pats en una cad\n",
        "  patron= '^' + '|'.join(patrones)\n",
        "  \n",
        "  res=re.match(patron,s)\n",
        "  \n",
        "  if res:\n",
        "    return True\n",
        "  return False\n",
        "\n",
        "\n",
        "#pruebo encontrar mi autor en mi cadena de prueba\n",
        "\n",
        "cad2=\"18/06/17, 22:47 - Loki: Why do you have 2 numbers, Banner?\"\n",
        "empieza_con_nombre_pers(cad)\n",
        "\n",
        "\n",
        "\n",
        "\"\"\"\n",
        "Separa los datos de la linea\n",
        "  devuelve fecha,hora,autor,mensaje\n",
        "  \n",
        "  *El autor sera \"None\" si no es reconocido por el patron, estos autores serian usuarios que fueron sacados del grupo p.e\n",
        "\n",
        "\"\"\"\n",
        "\n",
        "#TODO: hacer a mi forma\n",
        "def obtener_datos_de_linea(linea):\n",
        " \n",
        "    # line = 18/06/17, 22:47 - Loki: Why do you have 2 numbers, Banner?\n",
        "    \n",
        "    splitLine = line.split(' - ') # splitLine = ['18/06/17, 22:47', 'Loki: Why do you have 2 numbers, Banner?']\n",
        "    \n",
        "    dateTime = splitLine[0] # dateTime = '18/06/17, 22:47'\n",
        "    \n",
        "    date, time = dateTime.split(', ') # date = '18/06/17'; time = '22:47'\n",
        "    \n",
        "    message = ' '.join(splitLine[1:]) # message = 'Loki: Why do you have 2 numbers, Banner?'\n",
        "    \n",
        "    if startsWithAuthor(message): # True\n",
        "        splitMessage = message.split(': ') # splitMessage = ['Loki', 'Why do you have 2 numbers, Banner?']\n",
        "        author = splitMessage[0] # author = 'Loki'\n",
        "        message = ' '.join(splitMessage[1:]) # message = 'Why do you have 2 numbers, Banner?'\n",
        "    else:\n",
        "        author = None\n",
        "    return date, time, author, message\n",
        "  \n",
        "\n",
        "obtener_datos_de_linea(cad2) \n",
        "\n",
        "\n",
        "\n",
        "\n"
      ],
      "execution_count": 0,
      "outputs": [
        {
          "output_type": "execute_result",
          "data": {
            "text/plain": [
              "False"
            ]
          },
          "metadata": {
            "tags": []
          },
          "execution_count": 20
        }
      ]
    }
  ]
}